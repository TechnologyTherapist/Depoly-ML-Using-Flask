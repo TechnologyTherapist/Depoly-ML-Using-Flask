{
 "cells": [
  {
   "cell_type": "code",
   "execution_count": 1,
   "metadata": {
    "collapsed": true
   },
   "outputs": [
    {
     "ename": "ModuleNotFoundError",
     "evalue": "No module named 'plotly'",
     "output_type": "error",
     "traceback": [
      "\u001B[1;31m---------------------------------------------------------------------------\u001B[0m",
      "\u001B[1;31mModuleNotFoundError\u001B[0m                       Traceback (most recent call last)",
      "\u001B[1;32m~\\AppData\\Local\\Temp/ipykernel_17872/173695009.py\u001B[0m in \u001B[0;36m<module>\u001B[1;34m\u001B[0m\n\u001B[0;32m      2\u001B[0m \u001B[1;32mimport\u001B[0m \u001B[0mpandas\u001B[0m \u001B[1;32mas\u001B[0m \u001B[0mpd\u001B[0m\u001B[1;33m\u001B[0m\u001B[1;33m\u001B[0m\u001B[0m\n\u001B[0;32m      3\u001B[0m \u001B[1;32mimport\u001B[0m \u001B[0mnumpy\u001B[0m \u001B[1;32mas\u001B[0m \u001B[0mnp\u001B[0m\u001B[1;33m\u001B[0m\u001B[1;33m\u001B[0m\u001B[0m\n\u001B[1;32m----> 4\u001B[1;33m \u001B[1;32mimport\u001B[0m \u001B[0mplotly\u001B[0m\u001B[1;33m.\u001B[0m\u001B[0mexpress\u001B[0m \u001B[1;32mas\u001B[0m \u001B[0mpx\u001B[0m\u001B[1;33m\u001B[0m\u001B[1;33m\u001B[0m\u001B[0m\n\u001B[0m\u001B[0;32m      5\u001B[0m \u001B[1;32mimport\u001B[0m \u001B[0mplotly\u001B[0m\u001B[1;33m.\u001B[0m\u001B[0mgraph_objects\u001B[0m \u001B[1;32mas\u001B[0m \u001B[0mgo\u001B[0m\u001B[1;33m\u001B[0m\u001B[1;33m\u001B[0m\u001B[0m\n",
      "\u001B[1;31mModuleNotFoundError\u001B[0m: No module named 'plotly'"
     ]
    }
   ],
   "source": [
    "from sklearn.linear_model import LinearRegression\n",
    "import pandas as pd\n",
    "import numpy as np\n",
    "import plotly.express as px\n",
    "import plotly.graph_objects as go"
   ]
  },
  {
   "cell_type": "code",
   "execution_count": 3,
   "outputs": [
    {
     "data": {
      "text/plain": "          Age     Height\n0   14.767874  59.627484\n1    3.107671  36.146453\n2    7.266917  46.912878\n3    1.815180  29.125660\n4   16.753758  68.170414\n..        ...        ...\n95   7.323712  46.857505\n96   5.591509  39.339990\n97   2.625606  32.918925\n98   5.519293  40.704154\n99  13.117413  55.177407\n\n[100 rows x 2 columns]",
      "text/html": "<div>\n<style scoped>\n    .dataframe tbody tr th:only-of-type {\n        vertical-align: middle;\n    }\n\n    .dataframe tbody tr th {\n        vertical-align: top;\n    }\n\n    .dataframe thead th {\n        text-align: right;\n    }\n</style>\n<table border=\"1\" class=\"dataframe\">\n  <thead>\n    <tr style=\"text-align: right;\">\n      <th></th>\n      <th>Age</th>\n      <th>Height</th>\n    </tr>\n  </thead>\n  <tbody>\n    <tr>\n      <th>0</th>\n      <td>14.767874</td>\n      <td>59.627484</td>\n    </tr>\n    <tr>\n      <th>1</th>\n      <td>3.107671</td>\n      <td>36.146453</td>\n    </tr>\n    <tr>\n      <th>2</th>\n      <td>7.266917</td>\n      <td>46.912878</td>\n    </tr>\n    <tr>\n      <th>3</th>\n      <td>1.815180</td>\n      <td>29.125660</td>\n    </tr>\n    <tr>\n      <th>4</th>\n      <td>16.753758</td>\n      <td>68.170414</td>\n    </tr>\n    <tr>\n      <th>...</th>\n      <td>...</td>\n      <td>...</td>\n    </tr>\n    <tr>\n      <th>95</th>\n      <td>7.323712</td>\n      <td>46.857505</td>\n    </tr>\n    <tr>\n      <th>96</th>\n      <td>5.591509</td>\n      <td>39.339990</td>\n    </tr>\n    <tr>\n      <th>97</th>\n      <td>2.625606</td>\n      <td>32.918925</td>\n    </tr>\n    <tr>\n      <th>98</th>\n      <td>5.519293</td>\n      <td>40.704154</td>\n    </tr>\n    <tr>\n      <th>99</th>\n      <td>13.117413</td>\n      <td>55.177407</td>\n    </tr>\n  </tbody>\n</table>\n<p>100 rows × 2 columns</p>\n</div>"
     },
     "execution_count": 3,
     "metadata": {},
     "output_type": "execute_result"
    }
   ],
   "source": [
    "data = pd.read_pickle('AgesAndHeights.csv')\n",
    "data"
   ],
   "metadata": {
    "collapsed": false,
    "pycharm": {
     "name": "#%%\n"
    }
   }
  },
  {
   "cell_type": "code",
   "execution_count": 6,
   "outputs": [
    {
     "ename": "NameError",
     "evalue": "name 'px' is not defined",
     "output_type": "error",
     "traceback": [
      "\u001B[1;31m---------------------------------------------------------------------------\u001B[0m",
      "\u001B[1;31mNameError\u001B[0m                                 Traceback (most recent call last)",
      "\u001B[1;32m~\\AppData\\Local\\Temp/ipykernel_17872/3836462826.py\u001B[0m in \u001B[0;36m<module>\u001B[1;34m\u001B[0m\n\u001B[0;32m      2\u001B[0m \u001B[0mheights\u001B[0m \u001B[1;33m=\u001B[0m \u001B[0mdata\u001B[0m\u001B[1;33m[\u001B[0m\u001B[1;34m'Height'\u001B[0m\u001B[1;33m]\u001B[0m\u001B[1;33m\u001B[0m\u001B[1;33m\u001B[0m\u001B[0m\n\u001B[0;32m      3\u001B[0m \u001B[1;33m\u001B[0m\u001B[0m\n\u001B[1;32m----> 4\u001B[1;33m fig = px.scatter(x=ages, y=heights, title=\"Height vs Age\", labels={'x': 'Age (Years)',\n\u001B[0m\u001B[0;32m      5\u001B[0m                                                                    'y': 'Height (Inches)'})\n\u001B[0;32m      6\u001B[0m \u001B[0mfig\u001B[0m\u001B[1;33m.\u001B[0m\u001B[0mshow\u001B[0m\u001B[1;33m(\u001B[0m\u001B[1;33m)\u001B[0m\u001B[1;33m\u001B[0m\u001B[1;33m\u001B[0m\u001B[0m\n",
      "\u001B[1;31mNameError\u001B[0m: name 'px' is not defined"
     ]
    }
   ],
   "source": [
    "ages = data['Age']\n",
    "heights = data['Height']\n",
    "\n",
    "fig = px.scatter(x=ages, y=heights, title=\"Height vs Age\", labels={'x': 'Age (Years)',\n",
    "                                                                   'y': 'Height (Inches)'})\n",
    "fig.show()"
   ],
   "metadata": {
    "collapsed": false,
    "pycharm": {
     "name": "#%%\n"
    }
   }
  },
  {
   "cell_type": "code",
   "execution_count": 7,
   "outputs": [
    {
     "data": {
      "text/plain": "array([14.76787382,  3.10767135,  7.26691701,  1.81517968, 16.75375763,\n        5.35126307,  8.65571488,  4.20599293,  7.35669106,  1.66817819,\n        8.2969588 , 14.74948482, 15.28545214, -0.16353169, 16.65534197,\n        0.85918789,  8.43332999, 11.92386163,  0.76828323, 11.36202254,\n       -0.68301696,  1.29597926, 10.31206094, 17.39335272, 10.31003056,\n       -0.14639168,  6.23764582, 15.55153122,  2.77346425, 15.59798962,\n       -0.78085287,  7.57789784,  2.04165705,  9.90665221,  2.87252515,\n        1.54231936, -0.08795844,  5.46202264, 15.04362695,  5.99372597,\n        4.805291  ,  8.94992003,  5.02020985,  9.89555258,  5.20281507,\n        0.19568558,  0.89217393,  7.30979593, 10.8545723 , 15.69876495,\n        0.81216582, 15.40144747,  9.21599924,  8.98515379,  3.74369906,\n        0.75192511,  6.5963469 ,  9.75112683,  7.40094567, -0.5484884 ,\n       17.32712575, 10.53406938, 15.16816596,  9.46971876, 13.54691548,\n        7.80132294,  2.51910344,  4.71666526, 10.0386595 , 11.77125476,\n        8.53738026,  2.58355771,  1.438003  , 10.40642157, 16.85933332,\n       12.22465149,  9.51476997, 10.08186587,  8.19621527, 10.49687113,\n        7.27368593, 11.12960811,  1.79959378,  7.78987166,  7.02932985,\n        5.8591807 , 17.34312098,  6.57163034, 15.33887426, 17.88785196,\n       14.27429987, -0.32878015, 14.12895726, 11.09012111, 13.74786759,\n        7.32371166,  5.59150936,  2.62560582,  5.51929292, 13.11741343])"
     },
     "execution_count": 7,
     "metadata": {},
     "output_type": "execute_result"
    }
   ],
   "source": [
    "x = ages.to_numpy()\n",
    "y = heights.to_numpy()\n",
    "x"
   ],
   "metadata": {
    "collapsed": false,
    "pycharm": {
     "name": "#%%\n"
    }
   }
  },
  {
   "cell_type": "code",
   "execution_count": 8,
   "outputs": [
    {
     "data": {
      "text/plain": "array([1.9855967])"
     },
     "execution_count": 8,
     "metadata": {},
     "output_type": "execute_result"
    }
   ],
   "source": [
    "model = LinearRegression().fit(x.reshape((len(x), 1)), heights)\n",
    "model.coef_"
   ],
   "metadata": {
    "collapsed": false,
    "pycharm": {
     "name": "#%%\n"
    }
   }
  },
  {
   "cell_type": "code",
   "execution_count": 9,
   "outputs": [
    {
     "ename": "NameError",
     "evalue": "name 'px' is not defined",
     "output_type": "error",
     "traceback": [
      "\u001B[1;31m---------------------------------------------------------------------------\u001B[0m",
      "\u001B[1;31mNameError\u001B[0m                                 Traceback (most recent call last)",
      "\u001B[1;32m~\\AppData\\Local\\Temp/ipykernel_17872/3761701318.py\u001B[0m in \u001B[0;36m<module>\u001B[1;34m\u001B[0m\n\u001B[0;32m      2\u001B[0m \u001B[0mpreds\u001B[0m  \u001B[1;33m=\u001B[0m \u001B[0mmodel\u001B[0m\u001B[1;33m.\u001B[0m\u001B[0mpredict\u001B[0m\u001B[1;33m(\u001B[0m\u001B[0mx_new\u001B[0m\u001B[1;33m)\u001B[0m\u001B[1;33m\u001B[0m\u001B[1;33m\u001B[0m\u001B[0m\n\u001B[0;32m      3\u001B[0m \u001B[1;33m\u001B[0m\u001B[0m\n\u001B[1;32m----> 4\u001B[1;33m fig = px.scatter(x=ages, y=heights, title=\"Height vs Age\", labels={'x': 'Age (Years)',\n\u001B[0m\u001B[0;32m      5\u001B[0m                                                                    'y': 'Height (Inches)'})\n\u001B[0;32m      6\u001B[0m fig.add_trace(\n",
      "\u001B[1;31mNameError\u001B[0m: name 'px' is not defined"
     ]
    }
   ],
   "source": [
    "x_new = np.arange(18).reshape((18, 1))\n",
    "preds  = model.predict(x_new)\n",
    "\n",
    "fig = px.scatter(x=ages, y=heights, title=\"Height vs Age\", labels={'x': 'Age (Years)',\n",
    "                                                                   'y': 'Height (Inches)'})\n",
    "fig.add_trace(\n",
    "    go.Scatter(x=x_new.reshape(x_new.shape[0]), y=preds, mode='lines', name='Model'))\n",
    "\n",
    "fig.show()"
   ],
   "metadata": {
    "collapsed": false,
    "pycharm": {
     "name": "#%%\n"
    }
   }
  },
  {
   "cell_type": "code",
   "execution_count": 10,
   "outputs": [
    {
     "data": {
      "text/plain": "['model.joblib']"
     },
     "execution_count": 10,
     "metadata": {},
     "output_type": "execute_result"
    }
   ],
   "source": [
    "from joblib import dump, load\n",
    "dump(model, 'model.joblib')"
   ],
   "metadata": {
    "collapsed": false,
    "pycharm": {
     "name": "#%%\n"
    }
   }
  },
  {
   "cell_type": "code",
   "execution_count": 11,
   "outputs": [],
   "source": [
    "loaded_model = load('model.joblib')"
   ],
   "metadata": {
    "collapsed": false,
    "pycharm": {
     "name": "#%%\n"
    }
   }
  },
  {
   "cell_type": "code",
   "execution_count": 12,
   "outputs": [
    {
     "data": {
      "text/plain": "array([30.13813668, 32.12373339, 34.10933009, 36.0949268 , 38.0805235 ,\n       40.06612021, 42.05171691, 44.03731361, 46.02291032, 48.00850702,\n       49.99410373, 51.97970043, 53.96529714, 55.95089384, 57.93649055,\n       59.92208725, 61.90768396, 63.89328066])"
     },
     "execution_count": 12,
     "metadata": {},
     "output_type": "execute_result"
    }
   ],
   "source": [
    "more_preds  = loaded_model.predict(x_new)\n",
    "more_preds"
   ],
   "metadata": {
    "collapsed": false,
    "pycharm": {
     "name": "#%%\n"
    }
   }
  },
  {
   "cell_type": "code",
   "execution_count": 13,
   "outputs": [],
   "source": [
    "def make_picture(training_data_filename, new_input_arr, model, output_file='predictions_pic.svg'):\n",
    "  # Plot training data with model\n",
    "  data = pd.read_pickle('AgesAndHeights.pkl')\n",
    "  x_new = np.arange(18).reshape((18, 1))\n",
    "  preds  = model.predict(x_new)\n",
    "  ages = data['Age']\n",
    "  heights = data['Height']\n",
    "  fig = px.scatter(x=ages, y=heights, title=\"Height vs Age\", labels={'x': 'Age (Years)',\n",
    "                                                                   'y': 'Height (Inches)'})\n",
    "  fig.add_trace(\n",
    "      go.Scatter(x=x_new.reshape(x_new.shape[0]), y=preds, mode='lines', name='Model'))\n",
    "\n",
    "  if new_input_arr is not False:\n",
    "    # Plot new predictions\n",
    "    new_preds = model.predict(new_input_arr)\n",
    "    fig.add_trace(\n",
    "      go.Scatter(x=new_input_arr.reshape(new_input_arr.shape[0]), y=new_preds, name='New Outputs', mode='markers', marker=dict(\n",
    "            color='purple',\n",
    "            size=20,\n",
    "            line=dict(\n",
    "                color='purple',\n",
    "                width=2\n",
    "            ))))\n",
    "  fig.write_image(output_file, width=800)\n",
    "  return fig"
   ],
   "metadata": {
    "collapsed": false,
    "pycharm": {
     "name": "#%%\n"
    }
   }
  },
  {
   "cell_type": "code",
   "execution_count": 14,
   "outputs": [],
   "source": [
    "def floats_string_to_input_arr(floats_str):\n",
    "  floats = [float(x.strip()) for x in floats_str.split(',')]\n",
    "  as_np_arr = np.array(floats).reshape(len(floats), 1)\n",
    "  return as_np_arr"
   ],
   "metadata": {
    "collapsed": false,
    "pycharm": {
     "name": "#%%\n"
    }
   }
  },
  {
   "cell_type": "code",
   "execution_count": 15,
   "outputs": [
    {
     "ename": "NameError",
     "evalue": "name 'integers_string_to_input_arr' is not defined",
     "output_type": "error",
     "traceback": [
      "\u001B[1;31m---------------------------------------------------------------------------\u001B[0m",
      "\u001B[1;31mNameError\u001B[0m                                 Traceback (most recent call last)",
      "\u001B[1;32m~\\AppData\\Local\\Temp/ipykernel_17872/499226180.py\u001B[0m in \u001B[0;36m<module>\u001B[1;34m\u001B[0m\n\u001B[1;32m----> 1\u001B[1;33m \u001B[0mintegers_string_to_input_arr\u001B[0m\u001B[1;33m(\u001B[0m\u001B[1;34m'1, 2, 3'\u001B[0m\u001B[1;33m)\u001B[0m\u001B[1;33m\u001B[0m\u001B[1;33m\u001B[0m\u001B[0m\n\u001B[0m",
      "\u001B[1;31mNameError\u001B[0m: name 'integers_string_to_input_arr' is not defined"
     ]
    }
   ],
   "source": [
    "integers_string_to_input_arr('1, 2, 3')"
   ],
   "metadata": {
    "collapsed": false,
    "pycharm": {
     "name": "#%%\n"
    }
   }
  },
  {
   "cell_type": "code",
   "execution_count": 16,
   "outputs": [
    {
     "ename": "FileNotFoundError",
     "evalue": "[Errno 2] No such file or directory: 'AgesAndHeights.pkl'",
     "output_type": "error",
     "traceback": [
      "\u001B[1;31m---------------------------------------------------------------------------\u001B[0m",
      "\u001B[1;31mFileNotFoundError\u001B[0m                         Traceback (most recent call last)",
      "\u001B[1;32m~\\AppData\\Local\\Temp/ipykernel_17872/2293552301.py\u001B[0m in \u001B[0;36m<module>\u001B[1;34m\u001B[0m\n\u001B[1;32m----> 1\u001B[1;33m \u001B[0mmake_picture\u001B[0m\u001B[1;33m(\u001B[0m\u001B[1;34m'AgesAndHeights.pkl'\u001B[0m\u001B[1;33m,\u001B[0m \u001B[1;32mFalse\u001B[0m\u001B[1;33m,\u001B[0m \u001B[0mloaded_model\u001B[0m\u001B[1;33m,\u001B[0m \u001B[1;34m'base_pic.svg'\u001B[0m\u001B[1;33m)\u001B[0m\u001B[1;33m\u001B[0m\u001B[1;33m\u001B[0m\u001B[0m\n\u001B[0m",
      "\u001B[1;32m~\\AppData\\Local\\Temp/ipykernel_17872/370687898.py\u001B[0m in \u001B[0;36mmake_picture\u001B[1;34m(training_data_filename, new_input_arr, model, output_file)\u001B[0m\n\u001B[0;32m      1\u001B[0m \u001B[1;32mdef\u001B[0m \u001B[0mmake_picture\u001B[0m\u001B[1;33m(\u001B[0m\u001B[0mtraining_data_filename\u001B[0m\u001B[1;33m,\u001B[0m \u001B[0mnew_input_arr\u001B[0m\u001B[1;33m,\u001B[0m \u001B[0mmodel\u001B[0m\u001B[1;33m,\u001B[0m \u001B[0moutput_file\u001B[0m\u001B[1;33m=\u001B[0m\u001B[1;34m'predictions_pic.svg'\u001B[0m\u001B[1;33m)\u001B[0m\u001B[1;33m:\u001B[0m\u001B[1;33m\u001B[0m\u001B[1;33m\u001B[0m\u001B[0m\n\u001B[0;32m      2\u001B[0m   \u001B[1;31m# Plot training data with model\u001B[0m\u001B[1;33m\u001B[0m\u001B[1;33m\u001B[0m\u001B[0m\n\u001B[1;32m----> 3\u001B[1;33m   \u001B[0mdata\u001B[0m \u001B[1;33m=\u001B[0m \u001B[0mpd\u001B[0m\u001B[1;33m.\u001B[0m\u001B[0mread_pickle\u001B[0m\u001B[1;33m(\u001B[0m\u001B[1;34m'AgesAndHeights.pkl'\u001B[0m\u001B[1;33m)\u001B[0m\u001B[1;33m\u001B[0m\u001B[1;33m\u001B[0m\u001B[0m\n\u001B[0m\u001B[0;32m      4\u001B[0m   \u001B[0mx_new\u001B[0m \u001B[1;33m=\u001B[0m \u001B[0mnp\u001B[0m\u001B[1;33m.\u001B[0m\u001B[0marange\u001B[0m\u001B[1;33m(\u001B[0m\u001B[1;36m18\u001B[0m\u001B[1;33m)\u001B[0m\u001B[1;33m.\u001B[0m\u001B[0mreshape\u001B[0m\u001B[1;33m(\u001B[0m\u001B[1;33m(\u001B[0m\u001B[1;36m18\u001B[0m\u001B[1;33m,\u001B[0m \u001B[1;36m1\u001B[0m\u001B[1;33m)\u001B[0m\u001B[1;33m)\u001B[0m\u001B[1;33m\u001B[0m\u001B[1;33m\u001B[0m\u001B[0m\n\u001B[0;32m      5\u001B[0m   \u001B[0mpreds\u001B[0m  \u001B[1;33m=\u001B[0m \u001B[0mmodel\u001B[0m\u001B[1;33m.\u001B[0m\u001B[0mpredict\u001B[0m\u001B[1;33m(\u001B[0m\u001B[0mx_new\u001B[0m\u001B[1;33m)\u001B[0m\u001B[1;33m\u001B[0m\u001B[1;33m\u001B[0m\u001B[0m\n",
      "\u001B[1;32m~\\anaconda3\\lib\\site-packages\\pandas\\io\\pickle.py\u001B[0m in \u001B[0;36mread_pickle\u001B[1;34m(filepath_or_buffer, compression, storage_options)\u001B[0m\n\u001B[0;32m    194\u001B[0m     \"\"\"\n\u001B[0;32m    195\u001B[0m     \u001B[0mexcs_to_catch\u001B[0m \u001B[1;33m=\u001B[0m \u001B[1;33m(\u001B[0m\u001B[0mAttributeError\u001B[0m\u001B[1;33m,\u001B[0m \u001B[0mImportError\u001B[0m\u001B[1;33m,\u001B[0m \u001B[0mModuleNotFoundError\u001B[0m\u001B[1;33m,\u001B[0m \u001B[0mTypeError\u001B[0m\u001B[1;33m)\u001B[0m\u001B[1;33m\u001B[0m\u001B[1;33m\u001B[0m\u001B[0m\n\u001B[1;32m--> 196\u001B[1;33m     with get_handle(\n\u001B[0m\u001B[0;32m    197\u001B[0m         \u001B[0mfilepath_or_buffer\u001B[0m\u001B[1;33m,\u001B[0m\u001B[1;33m\u001B[0m\u001B[1;33m\u001B[0m\u001B[0m\n\u001B[0;32m    198\u001B[0m         \u001B[1;34m\"rb\"\u001B[0m\u001B[1;33m,\u001B[0m\u001B[1;33m\u001B[0m\u001B[1;33m\u001B[0m\u001B[0m\n",
      "\u001B[1;32m~\\anaconda3\\lib\\site-packages\\pandas\\io\\common.py\u001B[0m in \u001B[0;36mget_handle\u001B[1;34m(path_or_buf, mode, encoding, compression, memory_map, is_text, errors, storage_options)\u001B[0m\n\u001B[0;32m    709\u001B[0m         \u001B[1;32melse\u001B[0m\u001B[1;33m:\u001B[0m\u001B[1;33m\u001B[0m\u001B[1;33m\u001B[0m\u001B[0m\n\u001B[0;32m    710\u001B[0m             \u001B[1;31m# Binary mode\u001B[0m\u001B[1;33m\u001B[0m\u001B[1;33m\u001B[0m\u001B[0m\n\u001B[1;32m--> 711\u001B[1;33m             \u001B[0mhandle\u001B[0m \u001B[1;33m=\u001B[0m \u001B[0mopen\u001B[0m\u001B[1;33m(\u001B[0m\u001B[0mhandle\u001B[0m\u001B[1;33m,\u001B[0m \u001B[0mioargs\u001B[0m\u001B[1;33m.\u001B[0m\u001B[0mmode\u001B[0m\u001B[1;33m)\u001B[0m\u001B[1;33m\u001B[0m\u001B[1;33m\u001B[0m\u001B[0m\n\u001B[0m\u001B[0;32m    712\u001B[0m         \u001B[0mhandles\u001B[0m\u001B[1;33m.\u001B[0m\u001B[0mappend\u001B[0m\u001B[1;33m(\u001B[0m\u001B[0mhandle\u001B[0m\u001B[1;33m)\u001B[0m\u001B[1;33m\u001B[0m\u001B[1;33m\u001B[0m\u001B[0m\n\u001B[0;32m    713\u001B[0m \u001B[1;33m\u001B[0m\u001B[0m\n",
      "\u001B[1;31mFileNotFoundError\u001B[0m: [Errno 2] No such file or directory: 'AgesAndHeights.pkl'"
     ]
    }
   ],
   "source": [
    "make_picture('AgesAndHeights.pkl', False, loaded_model, 'base_pic.svg')"
   ],
   "metadata": {
    "collapsed": false,
    "pycharm": {
     "name": "#%%\n"
    }
   }
  },
  {
   "cell_type": "code",
   "execution_count": null,
   "outputs": [],
   "source": [],
   "metadata": {
    "collapsed": false,
    "pycharm": {
     "name": "#%%\n"
    }
   }
  }
 ],
 "metadata": {
  "kernelspec": {
   "display_name": "Python 3",
   "language": "python",
   "name": "python3"
  },
  "language_info": {
   "codemirror_mode": {
    "name": "ipython",
    "version": 2
   },
   "file_extension": ".py",
   "mimetype": "text/x-python",
   "name": "python",
   "nbconvert_exporter": "python",
   "pygments_lexer": "ipython2",
   "version": "2.7.6"
  }
 },
 "nbformat": 4,
 "nbformat_minor": 0
}